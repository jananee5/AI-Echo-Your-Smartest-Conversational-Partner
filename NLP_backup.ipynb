{
  "nbformat": 4,
  "nbformat_minor": 0,
  "metadata": {
    "colab": {
      "provenance": [],
      "gpuType": "T4"
    },
    "kernelspec": {
      "name": "python3",
      "display_name": "Python 3"
    },
    "language_info": {
      "name": "python"
    },
    "accelerator": "GPU"
  },
  "cells": [
    {
      "cell_type": "code",
      "execution_count": null,
      "metadata": {
        "colab": {
          "base_uri": "https://localhost:8080/"
        },
        "id": "BE6L8IkpMh4U",
        "outputId": "1198bf71-ed2a-4ede-bb52-5e4f778f9d40"
      },
      "outputs": [
        {
          "output_type": "stream",
          "name": "stdout",
          "text": [
            "Requirement already satisfied: transformers in /usr/local/lib/python3.11/dist-packages (4.51.3)\n",
            "Requirement already satisfied: datasets in /usr/local/lib/python3.11/dist-packages (2.14.4)\n",
            "Requirement already satisfied: torch in /usr/local/lib/python3.11/dist-packages (2.6.0+cu124)\n",
            "Requirement already satisfied: filelock in /usr/local/lib/python3.11/dist-packages (from transformers) (3.18.0)\n",
            "Requirement already satisfied: huggingface-hub<1.0,>=0.30.0 in /usr/local/lib/python3.11/dist-packages (from transformers) (0.31.2)\n",
            "Requirement already satisfied: numpy>=1.17 in /usr/local/lib/python3.11/dist-packages (from transformers) (2.0.2)\n",
            "Requirement already satisfied: packaging>=20.0 in /usr/local/lib/python3.11/dist-packages (from transformers) (24.2)\n",
            "Requirement already satisfied: pyyaml>=5.1 in /usr/local/lib/python3.11/dist-packages (from transformers) (6.0.2)\n",
            "Requirement already satisfied: regex!=2019.12.17 in /usr/local/lib/python3.11/dist-packages (from transformers) (2024.11.6)\n",
            "Requirement already satisfied: requests in /usr/local/lib/python3.11/dist-packages (from transformers) (2.32.3)\n",
            "Requirement already satisfied: tokenizers<0.22,>=0.21 in /usr/local/lib/python3.11/dist-packages (from transformers) (0.21.1)\n",
            "Requirement already satisfied: safetensors>=0.4.3 in /usr/local/lib/python3.11/dist-packages (from transformers) (0.5.3)\n",
            "Requirement already satisfied: tqdm>=4.27 in /usr/local/lib/python3.11/dist-packages (from transformers) (4.67.1)\n",
            "Requirement already satisfied: pyarrow>=8.0.0 in /usr/local/lib/python3.11/dist-packages (from datasets) (18.1.0)\n",
            "Requirement already satisfied: dill<0.3.8,>=0.3.0 in /usr/local/lib/python3.11/dist-packages (from datasets) (0.3.7)\n",
            "Requirement already satisfied: pandas in /usr/local/lib/python3.11/dist-packages (from datasets) (2.2.2)\n",
            "Requirement already satisfied: xxhash in /usr/local/lib/python3.11/dist-packages (from datasets) (3.5.0)\n",
            "Requirement already satisfied: multiprocess in /usr/local/lib/python3.11/dist-packages (from datasets) (0.70.15)\n",
            "Requirement already satisfied: fsspec>=2021.11.1 in /usr/local/lib/python3.11/dist-packages (from fsspec[http]>=2021.11.1->datasets) (2025.3.2)\n",
            "Requirement already satisfied: aiohttp in /usr/local/lib/python3.11/dist-packages (from datasets) (3.11.15)\n",
            "Requirement already satisfied: typing-extensions>=4.10.0 in /usr/local/lib/python3.11/dist-packages (from torch) (4.13.2)\n",
            "Requirement already satisfied: networkx in /usr/local/lib/python3.11/dist-packages (from torch) (3.4.2)\n",
            "Requirement already satisfied: jinja2 in /usr/local/lib/python3.11/dist-packages (from torch) (3.1.6)\n",
            "Requirement already satisfied: nvidia-cuda-nvrtc-cu12==12.4.127 in /usr/local/lib/python3.11/dist-packages (from torch) (12.4.127)\n",
            "Requirement already satisfied: nvidia-cuda-runtime-cu12==12.4.127 in /usr/local/lib/python3.11/dist-packages (from torch) (12.4.127)\n",
            "Requirement already satisfied: nvidia-cuda-cupti-cu12==12.4.127 in /usr/local/lib/python3.11/dist-packages (from torch) (12.4.127)\n",
            "Requirement already satisfied: nvidia-cudnn-cu12==9.1.0.70 in /usr/local/lib/python3.11/dist-packages (from torch) (9.1.0.70)\n",
            "Requirement already satisfied: nvidia-cublas-cu12==12.4.5.8 in /usr/local/lib/python3.11/dist-packages (from torch) (12.4.5.8)\n",
            "Requirement already satisfied: nvidia-cufft-cu12==11.2.1.3 in /usr/local/lib/python3.11/dist-packages (from torch) (11.2.1.3)\n",
            "Requirement already satisfied: nvidia-curand-cu12==10.3.5.147 in /usr/local/lib/python3.11/dist-packages (from torch) (10.3.5.147)\n",
            "Requirement already satisfied: nvidia-cusolver-cu12==11.6.1.9 in /usr/local/lib/python3.11/dist-packages (from torch) (11.6.1.9)\n",
            "Requirement already satisfied: nvidia-cusparse-cu12==12.3.1.170 in /usr/local/lib/python3.11/dist-packages (from torch) (12.3.1.170)\n",
            "Requirement already satisfied: nvidia-cusparselt-cu12==0.6.2 in /usr/local/lib/python3.11/dist-packages (from torch) (0.6.2)\n",
            "Requirement already satisfied: nvidia-nccl-cu12==2.21.5 in /usr/local/lib/python3.11/dist-packages (from torch) (2.21.5)\n",
            "Requirement already satisfied: nvidia-nvtx-cu12==12.4.127 in /usr/local/lib/python3.11/dist-packages (from torch) (12.4.127)\n",
            "Requirement already satisfied: nvidia-nvjitlink-cu12==12.4.127 in /usr/local/lib/python3.11/dist-packages (from torch) (12.4.127)\n",
            "Requirement already satisfied: triton==3.2.0 in /usr/local/lib/python3.11/dist-packages (from torch) (3.2.0)\n",
            "Requirement already satisfied: sympy==1.13.1 in /usr/local/lib/python3.11/dist-packages (from torch) (1.13.1)\n",
            "Requirement already satisfied: mpmath<1.4,>=1.1.0 in /usr/local/lib/python3.11/dist-packages (from sympy==1.13.1->torch) (1.3.0)\n",
            "Requirement already satisfied: aiohappyeyeballs>=2.3.0 in /usr/local/lib/python3.11/dist-packages (from aiohttp->datasets) (2.6.1)\n",
            "Requirement already satisfied: aiosignal>=1.1.2 in /usr/local/lib/python3.11/dist-packages (from aiohttp->datasets) (1.3.2)\n",
            "Requirement already satisfied: attrs>=17.3.0 in /usr/local/lib/python3.11/dist-packages (from aiohttp->datasets) (25.3.0)\n",
            "Requirement already satisfied: frozenlist>=1.1.1 in /usr/local/lib/python3.11/dist-packages (from aiohttp->datasets) (1.6.0)\n",
            "Requirement already satisfied: multidict<7.0,>=4.5 in /usr/local/lib/python3.11/dist-packages (from aiohttp->datasets) (6.4.3)\n",
            "Requirement already satisfied: propcache>=0.2.0 in /usr/local/lib/python3.11/dist-packages (from aiohttp->datasets) (0.3.1)\n",
            "Requirement already satisfied: yarl<2.0,>=1.17.0 in /usr/local/lib/python3.11/dist-packages (from aiohttp->datasets) (1.20.0)\n",
            "Requirement already satisfied: charset-normalizer<4,>=2 in /usr/local/lib/python3.11/dist-packages (from requests->transformers) (3.4.2)\n",
            "Requirement already satisfied: idna<4,>=2.5 in /usr/local/lib/python3.11/dist-packages (from requests->transformers) (3.10)\n",
            "Requirement already satisfied: urllib3<3,>=1.21.1 in /usr/local/lib/python3.11/dist-packages (from requests->transformers) (2.4.0)\n",
            "Requirement already satisfied: certifi>=2017.4.17 in /usr/local/lib/python3.11/dist-packages (from requests->transformers) (2025.4.26)\n",
            "Requirement already satisfied: MarkupSafe>=2.0 in /usr/local/lib/python3.11/dist-packages (from jinja2->torch) (3.0.2)\n",
            "Requirement already satisfied: python-dateutil>=2.8.2 in /usr/local/lib/python3.11/dist-packages (from pandas->datasets) (2.9.0.post0)\n",
            "Requirement already satisfied: pytz>=2020.1 in /usr/local/lib/python3.11/dist-packages (from pandas->datasets) (2025.2)\n",
            "Requirement already satisfied: tzdata>=2022.7 in /usr/local/lib/python3.11/dist-packages (from pandas->datasets) (2025.2)\n",
            "Requirement already satisfied: six>=1.5 in /usr/local/lib/python3.11/dist-packages (from python-dateutil>=2.8.2->pandas->datasets) (1.17.0)\n"
          ]
        }
      ],
      "source": [
        "!pip install transformers datasets torch\n"
      ]
    },
    {
      "cell_type": "code",
      "source": [
        "!pip install --upgrade scikit-learn\n"
      ],
      "metadata": {
        "colab": {
          "base_uri": "https://localhost:8080/"
        },
        "id": "wHjhhtp3Mtqv",
        "outputId": "b7378290-e1d5-4746-8a4c-874c76a3d7c3"
      },
      "execution_count": null,
      "outputs": [
        {
          "output_type": "stream",
          "name": "stdout",
          "text": [
            "Requirement already satisfied: scikit-learn in /usr/local/lib/python3.11/dist-packages (1.6.1)\n",
            "Requirement already satisfied: numpy>=1.19.5 in /usr/local/lib/python3.11/dist-packages (from scikit-learn) (2.0.2)\n",
            "Requirement already satisfied: scipy>=1.6.0 in /usr/local/lib/python3.11/dist-packages (from scikit-learn) (1.15.3)\n",
            "Requirement already satisfied: joblib>=1.2.0 in /usr/local/lib/python3.11/dist-packages (from scikit-learn) (1.5.0)\n",
            "Requirement already satisfied: threadpoolctl>=3.1.0 in /usr/local/lib/python3.11/dist-packages (from scikit-learn) (3.6.0)\n"
          ]
        }
      ]
    },
    {
      "cell_type": "code",
      "source": [
        "import torch\n",
        "import sklearn\n",
        "import gc\n",
        "import numpy as np\n",
        "import pandas as pd\n",
        "import torch.nn as nn\n",
        "import psutil\n",
        "from transformers import AutoModel, AutoTokenizer, TrainingArguments, Trainer, DataCollatorWithPadding\n",
        "from torch.utils.data import Dataset\n",
        "from sklearn.utils.class_weight import compute_class_weight\n"
      ],
      "metadata": {
        "id": "QK1EYK2_MxTW"
      },
      "execution_count": null,
      "outputs": []
    },
    {
      "cell_type": "code",
      "source": [
        "df= pd.read_csv(\"/content/chatgpt_reviews.csv\")\n",
        "df.head()  # Shows first few rows\n",
        "df.info()  # Check data types and missing values\n",
        "\n"
      ],
      "metadata": {
        "colab": {
          "base_uri": "https://localhost:8080/"
        },
        "id": "NmNuKGZdM3Mn",
        "outputId": "b3ec949e-1d0c-48d2-8269-fd23f4e81ef4"
      },
      "execution_count": null,
      "outputs": [
        {
          "output_type": "stream",
          "name": "stdout",
          "text": [
            "<class 'pandas.core.frame.DataFrame'>\n",
            "RangeIndex: 10000 entries, 0 to 9999\n",
            "Data columns (total 12 columns):\n",
            " #   Column             Non-Null Count  Dtype  \n",
            "---  ------             --------------  -----  \n",
            " 0   date               10000 non-null  object \n",
            " 1   title              10000 non-null  object \n",
            " 2   review             10000 non-null  object \n",
            " 3   rating             10000 non-null  int64  \n",
            " 4   username           10000 non-null  object \n",
            " 5   helpful_votes      10000 non-null  int64  \n",
            " 6   review_length      10000 non-null  int64  \n",
            " 7   platform           10000 non-null  object \n",
            " 8   language           10000 non-null  object \n",
            " 9   location           10000 non-null  object \n",
            " 10  version            10000 non-null  float64\n",
            " 11  verified_purchase  10000 non-null  object \n",
            "dtypes: float64(1), int64(3), object(8)\n",
            "memory usage: 937.6+ KB\n"
          ]
        }
      ]
    },
    {
      "cell_type": "code",
      "source": [
        "# 🚀 Convert ratings into sentiment labels\n",
        "def map_rating_to_sentiment(rating):\n",
        "    if rating in [1, 2]:\n",
        "        return 0  # Negative\n",
        "    elif rating == 3:\n",
        "        return 1  # Neutral\n",
        "    else:\n",
        "        return 2  # Positive\n",
        "\n",
        "# ✅ Create the new sentiment label column\n",
        "df[\"sentiment_label\"] = df[\"rating\"].apply(map_rating_to_sentiment)\n"
      ],
      "metadata": {
        "id": "KYu7W44gM7Nl"
      },
      "execution_count": null,
      "outputs": []
    },
    {
      "cell_type": "code",
      "source": [
        "from imblearn.over_sampling import SMOTE\n",
        "\n",
        "# ✅ Convert text to numerical vectors (Example: TF-IDF)\n",
        "from sklearn.feature_extraction.text import TfidfVectorizer\n",
        "tfidf = TfidfVectorizer(max_features=5000)\n",
        "X_vectorized = tfidf.fit_transform(df[\"review\"]).toarray()\n",
        "\n",
        "# ✅ Apply SMOTE on numeric embeddings\n",
        "smote = SMOTE(random_state=42)\n",
        "X_resampled, y_resampled = smote.fit_resample(X_vectorized, df[\"sentiment_label\"])\n",
        "\n",
        "print(\"✅ Dataset balanced using SMOTE!\")\n"
      ],
      "metadata": {
        "colab": {
          "base_uri": "https://localhost:8080/"
        },
        "id": "PhVOQ8e0M9Lo",
        "outputId": "a76c0ead-8f35-4e30-bbc2-084a5add9e05"
      },
      "execution_count": null,
      "outputs": [
        {
          "output_type": "stream",
          "name": "stdout",
          "text": [
            "✅ Dataset balanced using SMOTE!\n"
          ]
        }
      ]
    },
    {
      "cell_type": "code",
      "source": [
        "print(\"Before SMOTE:\", df[\"sentiment_label\"].value_counts())\n",
        "print(\"After SMOTE:\", pd.Series(y_resampled).value_counts())\n"
      ],
      "metadata": {
        "colab": {
          "base_uri": "https://localhost:8080/"
        },
        "id": "k6bGd-HNM93W",
        "outputId": "fad873e9-b749-45a4-9a27-38065c7402d5"
      },
      "execution_count": null,
      "outputs": [
        {
          "output_type": "stream",
          "name": "stdout",
          "text": [
            "Before SMOTE: sentiment_label\n",
            "0    4069\n",
            "2    3988\n",
            "1    1943\n",
            "Name: count, dtype: int64\n",
            "After SMOTE: sentiment_label\n",
            "0    4069\n",
            "2    4069\n",
            "1    4069\n",
            "Name: count, dtype: int64\n"
          ]
        }
      ]
    },
    {
      "cell_type": "code",
      "source": [
        "labels_resampled = np.array(y_resampled.tolist())  # ✅ Use resampled labels\n",
        "\n",
        "class_weights_np = compute_class_weight(\"balanced\", classes=np.unique(labels_resampled), y=labels_resampled)\n",
        "\n",
        "# ✅ Convert to tensor for PyTorch and ensure it's on the correct device\n",
        "device = \"cuda\" if torch.cuda.is_available() else \"cpu\"\n",
        "class_weights_tensor = torch.tensor(class_weights_np, dtype=torch.float).to(device)\n",
        "\n",
        "print(f\"Updated Class Weights After SMOTE: {class_weights_np}\")  # 🚀 Verify weights\n",
        "print(f\"Class weights tensor device: {class_weights_tensor.device}\") # 🚀 Verify device"
      ],
      "metadata": {
        "colab": {
          "base_uri": "https://localhost:8080/"
        },
        "id": "hMUu9y6SM_y7",
        "outputId": "c9e28fbe-dff5-4963-b504-8eb207652456"
      },
      "execution_count": null,
      "outputs": [
        {
          "output_type": "stream",
          "name": "stdout",
          "text": [
            "Updated Class Weights After SMOTE: [1. 1. 1.]\n",
            "Class weights tensor device: cuda:0\n"
          ]
        }
      ]
    },
    {
      "cell_type": "code",
      "source": [
        "import re\n",
        "import nltk\n",
        "from nltk.corpus import stopwords\n",
        "from nltk.stem import WordNetLemmatizer\n",
        "\n",
        "# ✅ Download required resources\n",
        "nltk.download(\"stopwords\")\n",
        "nltk.download(\"wordnet\")\n",
        "\n",
        "# ✅ Initialize lemmatizer & stopwords\n",
        "lemmatizer = WordNetLemmatizer()\n",
        "stop_words = set(stopwords.words(\"english\"))\n",
        "\n",
        "# ✅ Add domain-specific stopwords for ChatGPT-related reviews\n",
        "custom_stopwords = {\"ai\", \"chatgpt\", \"bot\", \"response\", \"user\"}  # Example additions\n",
        "stop_words.update(custom_stopwords)\n",
        "\n",
        "# ✅ Define text preprocessing function\n",
        "def preprocess_text(text):\n",
        "    text = text.lower()  # 🔹 Lowercase all text\n",
        "    text = re.sub(r\"[^a-zA-Z0-9\\s]\", \"\", text)  # 🔹 Remove special characters, but keep numbers\n",
        "    text = re.sub(r\"\\s+\", \" \", text.strip())  # 🔹 Remove extra spaces\n",
        "    text_tokens = text.split()\n",
        "\n",
        "    # 🔹 Lemmatization with POS tagging for better accuracy\n",
        "    lemmatized_text = \" \".join([lemmatizer.lemmatize(word, pos='v') for word in text_tokens if word not in stop_words])\n",
        "\n",
        "    return lemmatized_text\n",
        "\n",
        "# ✅ Apply preprocessing to dataset\n",
        "df[\"review_cleaned\"] = df[\"review\"].apply(preprocess_text)\n",
        "\n",
        "# ✅ Check processed text\n",
        "print(df.head())\n"
      ],
      "metadata": {
        "id": "TiMo1MnNNCDb",
        "colab": {
          "base_uri": "https://localhost:8080/"
        },
        "outputId": "dc9bb636-8e3f-44cf-e0cc-8d621cda0f18"
      },
      "execution_count": null,
      "outputs": [
        {
          "output_type": "stream",
          "name": "stderr",
          "text": [
            "[nltk_data] Downloading package stopwords to /root/nltk_data...\n",
            "[nltk_data]   Package stopwords is already up-to-date!\n",
            "[nltk_data] Downloading package wordnet to /root/nltk_data...\n",
            "[nltk_data]   Package wordnet is already up-to-date!\n"
          ]
        },
        {
          "output_type": "stream",
          "name": "stdout",
          "text": [
            "         date                 title  \\\n",
            "0   2/15/2025            Impressive   \n",
            "1  10/16/2024         Waste of Time   \n",
            "2  10/16/2024         Waste of Time   \n",
            "3  12/21/2024          Not Accurate   \n",
            "4   3/23/2025  Fantastic Experience   \n",
            "\n",
            "                                              review  rating       username  \\\n",
            "0  Mother former community upon vote fact. Sure s...       2          ybass   \n",
            "1  General paper understand main. Or age half won...       5        glenn33   \n",
            "2  Here situation his high stage. Agree certainly...       4       debbie27   \n",
            "3  Rule court behind growth reality. Tonight whos...       1  hannahrussell   \n",
            "4  Case opportunity season road write. Effort gre...       3        cnorton   \n",
            "\n",
            "   helpful_votes  review_length platform language   location  version  \\\n",
            "0             68             78   Mobile       es     Canada      3.0   \n",
            "1             71            193      Web       de      India      4.1   \n",
            "2             66            184      Web       hi      India      4.1   \n",
            "3              5            193      Web       fr     Canada      4.0   \n",
            "4             71            131      Web       hi  Australia      4.1   \n",
            "\n",
            "  verified_purchase  sentiment_label  \\\n",
            "0                No                0   \n",
            "1               Yes                2   \n",
            "2               Yes                2   \n",
            "3               Yes                0   \n",
            "4                No                1   \n",
            "\n",
            "                                      review_cleaned  \n",
            "0  mother former community upon vote fact sure st...  \n",
            "1  general paper understand main age half wonder ...  \n",
            "2  situation high stage agree certainly blue thou...  \n",
            "3  rule court behind growth reality tonight whose...  \n",
            "4  case opportunity season road write effort gree...  \n"
          ]
        }
      ]
    },
    {
      "cell_type": "code",
      "source": [
        "from transformers import AutoTokenizer\n",
        "\n",
        "# ✅ Load Pre-trained Tokenizer\n",
        "tokenizer = AutoTokenizer.from_pretrained(\"distilbert-base-uncased\")\n",
        "\n",
        "# ✅ Define Tokenization Function\n",
        "def tokenize_text(text):\n",
        "    return tokenizer(text, truncation=True, padding=\"max_length\", max_length=256)\n",
        "\n",
        "# ✅ Apply Tokenization Correctly\n",
        "df[\"tokenized\"] = df[\"review_cleaned\"].apply(tokenize_text)\n",
        "\n",
        "# ✅ Extract input IDs and attention mask from tokenized output\n",
        "df[\"input_ids\"] = df[\"tokenized\"].apply(lambda x: x[\"input_ids\"])\n",
        "df[\"attention_mask\"] = df[\"tokenized\"].apply(lambda x: x[\"attention_mask\"])\n",
        "\n",
        "# ✅ Check the tokenized output\n",
        "print(df[[\"input_ids\", \"attention_mask\"]].head())\n"
      ],
      "metadata": {
        "id": "o2G2XrS6NEX6",
        "colab": {
          "base_uri": "https://localhost:8080/"
        },
        "outputId": "3f76bc7e-6fad-4ace-b568-248ff1acbdd6"
      },
      "execution_count": null,
      "outputs": [
        {
          "output_type": "stream",
          "name": "stderr",
          "text": [
            "/usr/local/lib/python3.11/dist-packages/huggingface_hub/utils/_auth.py:94: UserWarning: \n",
            "The secret `HF_TOKEN` does not exist in your Colab secrets.\n",
            "To authenticate with the Hugging Face Hub, create a token in your settings tab (https://huggingface.co/settings/tokens), set it as secret in your Google Colab and restart your session.\n",
            "You will be able to reuse this secret in all of your notebooks.\n",
            "Please note that authentication is recommended but still optional to access public models or datasets.\n",
            "  warnings.warn(\n"
          ]
        },
        {
          "output_type": "stream",
          "name": "stdout",
          "text": [
            "                                           input_ids  \\\n",
            "0  [101, 2388, 2280, 2451, 2588, 3789, 2755, 2469...   \n",
            "1  [101, 2236, 3259, 3305, 2364, 2287, 2431, 4687...   \n",
            "2  [101, 3663, 2152, 2754, 5993, 5121, 2630, 4595...   \n",
            "3  [101, 3627, 2457, 2369, 3930, 4507, 3892, 3005...   \n",
            "4  [101, 2553, 4495, 2161, 2346, 4339, 3947, 2665...   \n",
            "\n",
            "                                      attention_mask  \n",
            "0  [1, 1, 1, 1, 1, 1, 1, 1, 1, 1, 1, 1, 1, 1, 1, ...  \n",
            "1  [1, 1, 1, 1, 1, 1, 1, 1, 1, 1, 1, 1, 1, 1, 1, ...  \n",
            "2  [1, 1, 1, 1, 1, 1, 1, 1, 1, 1, 1, 1, 1, 1, 1, ...  \n",
            "3  [1, 1, 1, 1, 1, 1, 1, 1, 1, 1, 1, 1, 1, 1, 1, ...  \n",
            "4  [1, 1, 1, 1, 1, 1, 1, 1, 1, 1, 1, 1, 1, 1, 1, ...  \n"
          ]
        }
      ]
    },
    {
      "cell_type": "code",
      "source": [
        "from transformers import AutoTokenizer\n",
        "\n",
        "# ✅ Load Pre-trained Tokenizer\n",
        "tokenizer = AutoTokenizer.from_pretrained(\"distilbert-base-uncased\")\n",
        "\n",
        "# ✅ Define Tokenization Function with Dynamic Padding\n",
        "def tokenize_text(text):\n",
        "    return tokenizer(text, truncation=True, padding=\"longest\", return_tensors=\"pt\")\n",
        "\n",
        "# ✅ Apply Tokenization\n",
        "df[\"tokenized\"] = df[\"review_cleaned\"].apply(tokenize_text)\n",
        "\n",
        "# ✅ Extract input IDs and attention mask from tokenized output\n",
        "df[\"input_ids\"] = df[\"tokenized\"].apply(lambda x: x[\"input_ids\"].squeeze().tolist())  # Convert tensor to list\n",
        "df[\"attention_mask\"] = df[\"tokenized\"].apply(lambda x: x[\"attention_mask\"].squeeze().tolist())  # Convert tensor to list\n",
        "\n",
        "# ✅ Check tokenized text lengths before padding\n",
        "df[\"review_length\"] = df[\"review_cleaned\"].apply(lambda x: len(x.split()))\n",
        "df[\"token_length\"] = df[\"input_ids\"].apply(lambda x: sum(1 for i in x if i != 0))  # Count non-zero tokens\n",
        "\n",
        "# ✅ Display statistics to confirm improvement\n",
        "print(\"Text Length Stats:\")\n",
        "print(df[[\"review_length\", \"token_length\"]].describe())  # Check min/max/mean lengths\n",
        "\n",
        "# ✅ Check sample tokenized output\n",
        "print(df[[\"input_ids\", \"attention_mask\"]].head())\n"
      ],
      "metadata": {
        "id": "ne8_ZVg9NHRu",
        "colab": {
          "base_uri": "https://localhost:8080/"
        },
        "outputId": "f3b57adf-45f4-478e-e9a6-deaf2c4fe2b3"
      },
      "execution_count": null,
      "outputs": [
        {
          "output_type": "stream",
          "name": "stdout",
          "text": [
            "Text Length Stats:\n",
            "       review_length  token_length\n",
            "count   10000.000000  10000.000000\n",
            "mean       19.743600     21.743600\n",
            "std         4.915819      4.915819\n",
            "min         3.000000      5.000000\n",
            "25%        16.000000     18.000000\n",
            "50%        20.000000     22.000000\n",
            "75%        24.000000     26.000000\n",
            "max        31.000000     33.000000\n",
            "                                           input_ids  \\\n",
            "0  [101, 2388, 2280, 2451, 2588, 3789, 2755, 2469...   \n",
            "1  [101, 2236, 3259, 3305, 2364, 2287, 2431, 4687...   \n",
            "2  [101, 3663, 2152, 2754, 5993, 5121, 2630, 4595...   \n",
            "3  [101, 3627, 2457, 2369, 3930, 4507, 3892, 3005...   \n",
            "4  [101, 2553, 4495, 2161, 2346, 4339, 3947, 2665...   \n",
            "\n",
            "                                      attention_mask  \n",
            "0      [1, 1, 1, 1, 1, 1, 1, 1, 1, 1, 1, 1, 1, 1, 1]  \n",
            "1  [1, 1, 1, 1, 1, 1, 1, 1, 1, 1, 1, 1, 1, 1, 1, ...  \n",
            "2  [1, 1, 1, 1, 1, 1, 1, 1, 1, 1, 1, 1, 1, 1, 1, ...  \n",
            "3  [1, 1, 1, 1, 1, 1, 1, 1, 1, 1, 1, 1, 1, 1, 1, ...  \n",
            "4  [1, 1, 1, 1, 1, 1, 1, 1, 1, 1, 1, 1, 1, 1, 1, ...  \n"
          ]
        }
      ]
    },
    {
      "cell_type": "code",
      "source": [
        "import torch\n",
        "\n",
        "# ✅ Convert tokenized inputs to uniform padded tensors\n",
        "input_ids_tensor = torch.nn.utils.rnn.pad_sequence(\n",
        "    [torch.tensor(ids, dtype=torch.long) for ids in df[\"input_ids\"]],\n",
        "    batch_first=True, padding_value=0\n",
        ")\n",
        "\n",
        "attention_mask_tensor = torch.nn.utils.rnn.pad_sequence(\n",
        "    [torch.tensor(mask, dtype=torch.long) for mask in df[\"attention_mask\"]],\n",
        "    batch_first=True, padding_value=0\n",
        ")\n",
        "\n",
        "# ✅ Convert labels to a tensor\n",
        "labels_tensor = torch.tensor(df[\"sentiment_label\"].tolist(), dtype=torch.long)\n",
        "\n",
        "print(\"✅ Successfully converted tokenized inputs to uniform tensors!\")\n",
        "print(f\"Input IDs shape: {input_ids_tensor.shape}\")\n",
        "print(f\"Attention Mask shape: {attention_mask_tensor.shape}\")\n",
        "print(f\"Labels shape: {labels_tensor.shape}\")\n"
      ],
      "metadata": {
        "id": "AOsL4R5pNJmN",
        "colab": {
          "base_uri": "https://localhost:8080/"
        },
        "outputId": "6425c316-44dc-40df-8837-285cfb5b1523"
      },
      "execution_count": null,
      "outputs": [
        {
          "output_type": "stream",
          "name": "stdout",
          "text": [
            "✅ Successfully converted tokenized inputs to uniform tensors!\n",
            "Input IDs shape: torch.Size([10000, 33])\n",
            "Attention Mask shape: torch.Size([10000, 33])\n",
            "Labels shape: torch.Size([10000])\n"
          ]
        }
      ]
    },
    {
      "cell_type": "code",
      "source": [
        "import torch\n",
        "from torch.utils.data import Dataset, random_split, DataLoader\n",
        "\n",
        "# ✅ Move tensors to CPU for DataLoader compatibility\n",
        "input_ids_tensor = input_ids_tensor.cpu()\n",
        "attention_mask_tensor = attention_mask_tensor.cpu()\n",
        "labels_tensor = labels_tensor.cpu()\n",
        "\n",
        "# ✅ Check device availability\n",
        "device = \"cuda\" if torch.cuda.is_available() else \"cpu\"\n",
        "\n",
        "# ✅ Define Dataset Class (Use CPU tensors to avoid pinning issues)\n",
        "class SentimentDataset(Dataset):\n",
        "    def __init__(self, input_ids, attention_masks, labels):\n",
        "        self.input_ids = input_ids  # 🔹 Stay on CPU for DataLoader compatibility\n",
        "        self.attention_masks = attention_masks\n",
        "        self.labels = labels\n",
        "\n",
        "    def __len__(self):\n",
        "        return len(self.input_ids)\n",
        "\n",
        "    def __getitem__(self, idx):\n",
        "        return {\n",
        "            \"input_ids\": self.input_ids[idx],\n",
        "            \"attention_mask\": self.attention_masks[idx],\n",
        "            \"labels\": self.labels[idx]\n",
        "        }\n",
        "\n",
        "# ✅ Instantiate the Dataset with CPU tensors\n",
        "dataset = SentimentDataset(input_ids_tensor, attention_mask_tensor, labels_tensor)\n",
        "\n",
        "# ✅ Define split sizes (80% training, 20% testing)\n",
        "train_size = int(0.8 * len(dataset))\n",
        "test_size = len(dataset) - train_size\n",
        "\n",
        "# ✅ Perform dataset split\n",
        "train_dataset, test_dataset = random_split(dataset, [train_size, test_size])\n",
        "\n",
        "# ✅ Define DataLoaders for efficient training (pin_memory removed)\n",
        "train_dataloader = DataLoader(train_dataset, batch_size=4, shuffle=True)\n",
        "test_dataloader = DataLoader(test_dataset, batch_size=4, shuffle=False)\n",
        "\n",
        "# ✅ Verify\n",
        "print(f\"Training Samples: {len(train_dataset)}\")\n",
        "print(f\"Testing Samples: {len(test_dataset)}\")\n"
      ],
      "metadata": {
        "id": "01lNMH2_NMrt",
        "colab": {
          "base_uri": "https://localhost:8080/"
        },
        "outputId": "d10880bb-15d4-4ef2-ba10-62eae1ac87fc"
      },
      "execution_count": null,
      "outputs": [
        {
          "output_type": "stream",
          "name": "stdout",
          "text": [
            "Training Samples: 8000\n",
            "Testing Samples: 2000\n"
          ]
        }
      ]
    },
    {
      "cell_type": "code",
      "source": [
        "import torch\n",
        "import torch.nn as nn\n",
        "from transformers import AutoModel\n",
        "\n",
        "class SentimentClassifier(nn.Module):\n",
        "    def __init__(self, model_name, num_classes):\n",
        "        super(SentimentClassifier, self).__init__()\n",
        "        self.transformer = AutoModel.from_pretrained(model_name, return_dict=True)\n",
        "        self.dropout = nn.Dropout(p=0.5)\n",
        "        self.fc = nn.Linear(self.transformer.config.hidden_size, num_classes)\n",
        "\n",
        "    def forward(self, input_ids, attention_mask, labels=None):\n",
        "        output = self.transformer(input_ids=input_ids, attention_mask=attention_mask)\n",
        "\n",
        "        # ✅ Apply dropout before final classification\n",
        "        logits = self.fc(self.dropout(output.last_hidden_state[:, 0, :].float()))\n",
        "\n",
        "        probs = torch.nn.functional.softmax(logits, dim=-1)  # 🔹 Convert logits into probabilities\n",
        "\n",
        "        if labels is not None:\n",
        "            loss_fct = nn.CrossEntropyLoss(weight=class_weights_tensor, label_smoothing=0.1)  # ✅ Apply smoothing\n",
        "\n",
        "            loss = loss_fct(logits, labels.long())\n",
        "\n",
        "            # ✅ Return the calculated loss along with logits and probabilities\n",
        "            return {\"loss\": loss, \"logits\": logits, \"probs\": probs}\n",
        "\n",
        "        # ✅ Return logits and probabilities during evaluation/prediction\n",
        "        return {\"logits\": logits, \"probs\": probs}\n",
        "\n",
        "# ✅ Load Model onto GPU\n",
        "device = torch.device(\"cuda\" if torch.cuda.is_available() else \"cpu\")\n",
        "model = SentimentClassifier(\"distilbert-base-uncased\", num_classes=3)\n",
        "model.to(device)\n",
        "\n",
        "\n",
        "for param in list(model.transformer.parameters())[:4]:\n",
        "    param.requires_grad = False  # 🔹 Allows upper layers to learn new patterns\n"
      ],
      "metadata": {
        "id": "St9ex3XzNP9b"
      },
      "execution_count": null,
      "outputs": []
    },
    {
      "cell_type": "code",
      "source": [
        "training_args = TrainingArguments(\n",
        "    output_dir=\"./results\",\n",
        "    run_name=\"sentiment_classifier_run\",\n",
        "    save_total_limit=2,\n",
        "    save_steps=250,  # 🔹 More frequent saving\n",
        "    per_device_train_batch_size=4,\n",
        "    per_device_eval_batch_size=4,\n",
        "    num_train_epochs=10,\n",
        "    learning_rate=1e-7,  # 🔹 Adjusted for stability\n",
        "    lr_scheduler_type=\"cosine\",\n",
        "    gradient_accumulation_steps=4,\n",
        "    save_strategy=\"steps\",  # 🔹 More frequent model checkpoints\n",
        "    eval_strategy=\"epoch\",\n",
        "    weight_decay=0.2,\n",
        "    logging_dir=\"./logs\",\n",
        "    logging_steps=50,  # 🔹 Less frequent logging\n",
        "    fp16=True,  # 🔹 Speeds up training\n",
        "    fp16_full_eval=True,  # 🔹 Optimizes evaluation speed\n",
        "    report_to=\"none\"  # 🔹 Prevents wandb from being used\n",
        ")\n",
        "\n",
        "print(\"✅ Training setup optimized!\")\n"
      ],
      "metadata": {
        "id": "MHfag67MNSZF",
        "colab": {
          "base_uri": "https://localhost:8080/"
        },
        "outputId": "ce449cbe-a9e4-4e45-fed8-6ea803a981a2"
      },
      "execution_count": null,
      "outputs": [
        {
          "output_type": "stream",
          "name": "stdout",
          "text": [
            "✅ Training setup optimized!\n"
          ]
        }
      ]
    },
    {
      "cell_type": "code",
      "source": [
        "!pip install --upgrade accelerate"
      ],
      "metadata": {
        "id": "qeh8cS_PNU9l",
        "colab": {
          "base_uri": "https://localhost:8080/"
        },
        "outputId": "87bde0f3-015e-44ea-b7f9-0baff12fcc4a"
      },
      "execution_count": null,
      "outputs": [
        {
          "output_type": "stream",
          "name": "stdout",
          "text": [
            "Requirement already satisfied: accelerate in /usr/local/lib/python3.11/dist-packages (1.7.0)\n",
            "Requirement already satisfied: numpy<3.0.0,>=1.17 in /usr/local/lib/python3.11/dist-packages (from accelerate) (2.0.2)\n",
            "Requirement already satisfied: packaging>=20.0 in /usr/local/lib/python3.11/dist-packages (from accelerate) (24.2)\n",
            "Requirement already satisfied: psutil in /usr/local/lib/python3.11/dist-packages (from accelerate) (5.9.5)\n",
            "Requirement already satisfied: pyyaml in /usr/local/lib/python3.11/dist-packages (from accelerate) (6.0.2)\n",
            "Requirement already satisfied: torch>=2.0.0 in /usr/local/lib/python3.11/dist-packages (from accelerate) (2.6.0+cu124)\n",
            "Requirement already satisfied: huggingface-hub>=0.21.0 in /usr/local/lib/python3.11/dist-packages (from accelerate) (0.31.2)\n",
            "Requirement already satisfied: safetensors>=0.4.3 in /usr/local/lib/python3.11/dist-packages (from accelerate) (0.5.3)\n",
            "Requirement already satisfied: filelock in /usr/local/lib/python3.11/dist-packages (from huggingface-hub>=0.21.0->accelerate) (3.18.0)\n",
            "Requirement already satisfied: fsspec>=2023.5.0 in /usr/local/lib/python3.11/dist-packages (from huggingface-hub>=0.21.0->accelerate) (2025.3.2)\n",
            "Requirement already satisfied: requests in /usr/local/lib/python3.11/dist-packages (from huggingface-hub>=0.21.0->accelerate) (2.32.3)\n",
            "Requirement already satisfied: tqdm>=4.42.1 in /usr/local/lib/python3.11/dist-packages (from huggingface-hub>=0.21.0->accelerate) (4.67.1)\n",
            "Requirement already satisfied: typing-extensions>=3.7.4.3 in /usr/local/lib/python3.11/dist-packages (from huggingface-hub>=0.21.0->accelerate) (4.13.2)\n",
            "Requirement already satisfied: networkx in /usr/local/lib/python3.11/dist-packages (from torch>=2.0.0->accelerate) (3.4.2)\n",
            "Requirement already satisfied: jinja2 in /usr/local/lib/python3.11/dist-packages (from torch>=2.0.0->accelerate) (3.1.6)\n",
            "Requirement already satisfied: nvidia-cuda-nvrtc-cu12==12.4.127 in /usr/local/lib/python3.11/dist-packages (from torch>=2.0.0->accelerate) (12.4.127)\n",
            "Requirement already satisfied: nvidia-cuda-runtime-cu12==12.4.127 in /usr/local/lib/python3.11/dist-packages (from torch>=2.0.0->accelerate) (12.4.127)\n",
            "Requirement already satisfied: nvidia-cuda-cupti-cu12==12.4.127 in /usr/local/lib/python3.11/dist-packages (from torch>=2.0.0->accelerate) (12.4.127)\n",
            "Requirement already satisfied: nvidia-cudnn-cu12==9.1.0.70 in /usr/local/lib/python3.11/dist-packages (from torch>=2.0.0->accelerate) (9.1.0.70)\n",
            "Requirement already satisfied: nvidia-cublas-cu12==12.4.5.8 in /usr/local/lib/python3.11/dist-packages (from torch>=2.0.0->accelerate) (12.4.5.8)\n",
            "Requirement already satisfied: nvidia-cufft-cu12==11.2.1.3 in /usr/local/lib/python3.11/dist-packages (from torch>=2.0.0->accelerate) (11.2.1.3)\n",
            "Requirement already satisfied: nvidia-curand-cu12==10.3.5.147 in /usr/local/lib/python3.11/dist-packages (from torch>=2.0.0->accelerate) (10.3.5.147)\n",
            "Requirement already satisfied: nvidia-cusolver-cu12==11.6.1.9 in /usr/local/lib/python3.11/dist-packages (from torch>=2.0.0->accelerate) (11.6.1.9)\n",
            "Requirement already satisfied: nvidia-cusparse-cu12==12.3.1.170 in /usr/local/lib/python3.11/dist-packages (from torch>=2.0.0->accelerate) (12.3.1.170)\n",
            "Requirement already satisfied: nvidia-cusparselt-cu12==0.6.2 in /usr/local/lib/python3.11/dist-packages (from torch>=2.0.0->accelerate) (0.6.2)\n",
            "Requirement already satisfied: nvidia-nccl-cu12==2.21.5 in /usr/local/lib/python3.11/dist-packages (from torch>=2.0.0->accelerate) (2.21.5)\n",
            "Requirement already satisfied: nvidia-nvtx-cu12==12.4.127 in /usr/local/lib/python3.11/dist-packages (from torch>=2.0.0->accelerate) (12.4.127)\n",
            "Requirement already satisfied: nvidia-nvjitlink-cu12==12.4.127 in /usr/local/lib/python3.11/dist-packages (from torch>=2.0.0->accelerate) (12.4.127)\n",
            "Requirement already satisfied: triton==3.2.0 in /usr/local/lib/python3.11/dist-packages (from torch>=2.0.0->accelerate) (3.2.0)\n",
            "Requirement already satisfied: sympy==1.13.1 in /usr/local/lib/python3.11/dist-packages (from torch>=2.0.0->accelerate) (1.13.1)\n",
            "Requirement already satisfied: mpmath<1.4,>=1.1.0 in /usr/local/lib/python3.11/dist-packages (from sympy==1.13.1->torch>=2.0.0->accelerate) (1.3.0)\n",
            "Requirement already satisfied: MarkupSafe>=2.0 in /usr/local/lib/python3.11/dist-packages (from jinja2->torch>=2.0.0->accelerate) (3.0.2)\n",
            "Requirement already satisfied: charset-normalizer<4,>=2 in /usr/local/lib/python3.11/dist-packages (from requests->huggingface-hub>=0.21.0->accelerate) (3.4.2)\n",
            "Requirement already satisfied: idna<4,>=2.5 in /usr/local/lib/python3.11/dist-packages (from requests->huggingface-hub>=0.21.0->accelerate) (3.10)\n",
            "Requirement already satisfied: urllib3<3,>=1.21.1 in /usr/local/lib/python3.11/dist-packages (from requests->huggingface-hub>=0.21.0->accelerate) (2.4.0)\n",
            "Requirement already satisfied: certifi>=2017.4.17 in /usr/local/lib/python3.11/dist-packages (from requests->huggingface-hub>=0.21.0->accelerate) (2025.4.26)\n"
          ]
        }
      ]
    },
    {
      "cell_type": "code",
      "source": [
        "from accelerate.utils import write_basic_config\n",
        "\n",
        "# ✅ Reset `AccelerateState` to fix the distributed training issue\n",
        "write_basic_config()\n"
      ],
      "metadata": {
        "id": "NtMwSHNNNZ3y",
        "colab": {
          "base_uri": "https://localhost:8080/"
        },
        "outputId": "a9eebea4-4ffb-4d21-b7b5-0ccfc86d9503"
      },
      "execution_count": null,
      "outputs": [
        {
          "output_type": "stream",
          "name": "stdout",
          "text": [
            "Configuration already exists at /root/.cache/huggingface/accelerate/default_config.yaml, will not override. Run `accelerate config` manually or pass a different `save_location`.\n"
          ]
        },
        {
          "output_type": "execute_result",
          "data": {
            "text/plain": [
              "False"
            ]
          },
          "metadata": {},
          "execution_count": 19
        }
      ]
    },
    {
      "cell_type": "code",
      "source": [
        "from transformers import Trainer\n",
        "from transformers import get_scheduler\n",
        "from torch.optim import AdamW  # 🔹 Use PyTorch’s AdamW instead\n",
        "\n",
        "# ✅ Initialize Optimizer\n",
        "optimizer = AdamW(model.parameters(), lr=2e-5, weight_decay=0.1)\n",
        "\n",
        "# ✅ Define Learning Rate Scheduler\n",
        "lr_scheduler = get_scheduler(\n",
        "    \"cosine\", optimizer=optimizer, num_warmup_steps=500, num_training_steps=10000\n",
        ")\n",
        "class CustomTrainer(Trainer):\n",
        "    def compute_loss(self, model, inputs, return_outputs=False, num_items_in_batch=None):\n",
        "\n",
        "        outputs = model(**inputs)\n",
        "        loss = outputs[\"loss\"]\n",
        "\n",
        "        # ✅ Apply gradient clipping\n",
        "        torch.nn.utils.clip_grad_norm_(model.parameters(), max_norm=1.0)\n",
        "\n",
        "        return (loss, outputs) if return_outputs else loss\n",
        "\n",
        "trainer = CustomTrainer(\n",
        "    model=model,\n",
        "    args=training_args,\n",
        "    train_dataset=train_dataset,\n",
        "    eval_dataset=test_dataset,\n",
        "    optimizers=(optimizer, lr_scheduler)  # ✅ Pass both optimizer & scheduler\n",
        ")\n",
        "\n"
      ],
      "metadata": {
        "id": "beEcMxMnNcQO"
      },
      "execution_count": null,
      "outputs": []
    },
    {
      "cell_type": "code",
      "source": [
        "# 🚀 Start training\n",
        "trainer.train()\n"
      ],
      "metadata": {
        "id": "6__dUbCWNklD",
        "colab": {
          "base_uri": "https://localhost:8080/",
          "height": 425
        },
        "outputId": "4e84fe5f-1b62-4b11-d82f-0ec51186b26c"
      },
      "execution_count": null,
      "outputs": [
        {
          "output_type": "display_data",
          "data": {
            "text/plain": [
              "<IPython.core.display.HTML object>"
            ],
            "text/html": [
              "\n",
              "    <div>\n",
              "      \n",
              "      <progress value='5000' max='5000' style='width:300px; height:20px; vertical-align: middle;'></progress>\n",
              "      [5000/5000 11:58, Epoch 10/10]\n",
              "    </div>\n",
              "    <table border=\"1\" class=\"dataframe\">\n",
              "  <thead>\n",
              " <tr style=\"text-align: left;\">\n",
              "      <th>Epoch</th>\n",
              "      <th>Training Loss</th>\n",
              "      <th>Validation Loss</th>\n",
              "    </tr>\n",
              "  </thead>\n",
              "  <tbody>\n",
              "    <tr>\n",
              "      <td>1</td>\n",
              "      <td>1.086500</td>\n",
              "      <td>1.056928</td>\n",
              "    </tr>\n",
              "    <tr>\n",
              "      <td>2</td>\n",
              "      <td>1.076000</td>\n",
              "      <td>1.050166</td>\n",
              "    </tr>\n",
              "    <tr>\n",
              "      <td>3</td>\n",
              "      <td>1.084200</td>\n",
              "      <td>1.061156</td>\n",
              "    </tr>\n",
              "    <tr>\n",
              "      <td>4</td>\n",
              "      <td>1.077200</td>\n",
              "      <td>1.063439</td>\n",
              "    </tr>\n",
              "    <tr>\n",
              "      <td>5</td>\n",
              "      <td>1.062200</td>\n",
              "      <td>1.045551</td>\n",
              "    </tr>\n",
              "    <tr>\n",
              "      <td>6</td>\n",
              "      <td>1.062700</td>\n",
              "      <td>1.048349</td>\n",
              "    </tr>\n",
              "    <tr>\n",
              "      <td>7</td>\n",
              "      <td>1.057400</td>\n",
              "      <td>1.054854</td>\n",
              "    </tr>\n",
              "    <tr>\n",
              "      <td>8</td>\n",
              "      <td>1.059900</td>\n",
              "      <td>1.061659</td>\n",
              "    </tr>\n",
              "    <tr>\n",
              "      <td>9</td>\n",
              "      <td>1.020800</td>\n",
              "      <td>1.111717</td>\n",
              "    </tr>\n",
              "    <tr>\n",
              "      <td>10</td>\n",
              "      <td>0.990700</td>\n",
              "      <td>1.114897</td>\n",
              "    </tr>\n",
              "  </tbody>\n",
              "</table><p>"
            ]
          },
          "metadata": {}
        },
        {
          "output_type": "execute_result",
          "data": {
            "text/plain": [
              "TrainOutput(global_step=5000, training_loss=1.0543415016174316, metrics={'train_runtime': 718.9714, 'train_samples_per_second': 111.27, 'train_steps_per_second': 6.954, 'total_flos': 0.0, 'train_loss': 1.0543415016174316, 'epoch': 10.0})"
            ]
          },
          "metadata": {},
          "execution_count": 21
        }
      ]
    },
    {
      "cell_type": "code",
      "source": [
        "print(type(test_dataset))  # ✅ Should output `<class 'datasets.Dataset'>`\n"
      ],
      "metadata": {
        "id": "RpXtFsM1NoQM",
        "colab": {
          "base_uri": "https://localhost:8080/"
        },
        "outputId": "b3019985-dcdf-4c46-fc75-59f2b4cf465a"
      },
      "execution_count": null,
      "outputs": [
        {
          "output_type": "stream",
          "name": "stdout",
          "text": [
            "<class 'torch.utils.data.dataset.Subset'>\n"
          ]
        }
      ]
    },
    {
      "cell_type": "code",
      "source": [
        "import numpy as np\n",
        "test_labels = np.array([test_dataset.dataset[i][\"labels\"] for i in test_dataset.indices])  # ✅ Speed boost\n"
      ],
      "metadata": {
        "id": "MIU6WrEBbngH"
      },
      "execution_count": null,
      "outputs": []
    },
    {
      "source": [
        "from sklearn.metrics import accuracy_score, precision_recall_fscore_support, classification_report, confusion_matrix\n",
        "import matplotlib.pyplot as plt\n",
        "import seaborn as sns\n",
        "\n",
        "# ✅ Predictions on test dataset\n",
        "predictions = trainer.predict(test_dataset)\n",
        "\n",
        "# Add these lines to inspect the structure of predictions\n",
        "print(f\"Type of predictions: {type(predictions)}\")\n",
        "print(f\"Type of predictions.predictions: {type(predictions.predictions)}\")\n",
        "print(f\"Shape of predictions.predictions: {predictions.predictions.shape if hasattr(predictions.predictions, 'shape') else 'No shape attribute'}\")\n",
        "\n",
        "\n",
        "import numpy as np\n",
        "pred_labels = np.array(predictions.predictions[0]).argmax(axis=1)  # ✅ Ensures compatibility\n",
        "\n",
        "# ✅ Compute evaluation metrics\n",
        "accuracy = accuracy_score(test_labels, pred_labels)\n",
        "precision, recall, f1, _ = precision_recall_fscore_support(test_labels, pred_labels, average='weighted')\n",
        "\n",
        "# ✅ Confusion Matrix visualization\n",
        "conf_matrix = confusion_matrix(test_labels, pred_labels)\n",
        "\n",
        "plt.figure(figsize=(6, 4))\n",
        "sns.heatmap(conf_matrix, annot=True, fmt='d', cmap='Blues', xticklabels=['Negative', 'Neutral', 'Positive'], yticklabels=['Negative', 'Neutral', 'Positive'])\n",
        "plt.xlabel(\"Predicted Labels\")\n",
        "plt.ylabel(\"True Labels\")\n",
        "plt.title(\"Confusion Matrix\")\n",
        "plt.show()\n",
        "\n",
        "print(f\"✅ Accuracy: {accuracy:.4f}\")\n",
        "print(f\"✅ Precision: {precision:.4f}\")\n",
        "print(f\"✅ Recall: {recall:.4f}\")\n",
        "print(f\"✅ F1-Score: {f1:.4f}\")\n",
        "print(\"\\nClassification Report:\\n\", classification_report(test_labels, pred_labels))"
      ],
      "cell_type": "code",
      "metadata": {
        "colab": {
          "base_uri": "https://localhost:8080/",
          "height": 961
        },
        "id": "T0wcbAKBabYt",
        "outputId": "3ecc933e-7533-40f7-85a0-0bd2d4f1a085"
      },
      "execution_count": null,
      "outputs": [
        {
          "output_type": "display_data",
          "data": {
            "text/plain": [
              "<IPython.core.display.HTML object>"
            ],
            "text/html": [
              "\n",
              "    <div>\n",
              "      \n",
              "      <progress value='2501' max='7500' style='width:300px; height:20px; vertical-align: middle;'></progress>\n",
              "      [2501/7500 04:38 < 09:16, 8.99 it/s, Epoch 5/15]\n",
              "    </div>\n",
              "    <table border=\"1\" class=\"dataframe\">\n",
              "  <thead>\n",
              " <tr style=\"text-align: left;\">\n",
              "      <th>Epoch</th>\n",
              "      <th>Training Loss</th>\n",
              "      <th>Validation Loss</th>\n",
              "    </tr>\n",
              "  </thead>\n",
              "  <tbody>\n",
              "    <tr>\n",
              "      <td>1</td>\n",
              "      <td>0.905200</td>\n",
              "      <td>1.166084</td>\n",
              "    </tr>\n",
              "    <tr>\n",
              "      <td>2</td>\n",
              "      <td>0.895800</td>\n",
              "      <td>1.214442</td>\n",
              "    </tr>\n",
              "    <tr>\n",
              "      <td>3</td>\n",
              "      <td>0.922700</td>\n",
              "      <td>1.223230</td>\n",
              "    </tr>\n",
              "    <tr>\n",
              "      <td>4</td>\n",
              "      <td>0.841000</td>\n",
              "      <td>1.300555</td>\n",
              "    </tr>\n",
              "  </tbody>\n",
              "</table><p>\n",
              "    <div>\n",
              "      \n",
              "      <progress value='250' max='250' style='width:300px; height:20px; vertical-align: middle;'></progress>\n",
              "      [250/250 00:02]\n",
              "    </div>\n",
              "    "
            ]
          },
          "metadata": {}
        },
        {
          "output_type": "stream",
          "name": "stdout",
          "text": [
            "Type of predictions: <class 'transformers.trainer_utils.PredictionOutput'>\n",
            "Type of predictions.predictions: <class 'tuple'>\n",
            "Shape of predictions.predictions: No shape attribute\n"
          ]
        },
        {
          "output_type": "display_data",
          "data": {
            "text/plain": [
              "<Figure size 600x400 with 2 Axes>"
            ],
            "image/png": "[encoded data removed]"
          },
          "metadata": {}
        },
        {
          "output_type": "stream",
          "name": "stdout",
          "text": [
            "✅ Accuracy: 0.4000\n",
            "✅ Precision: 0.3776\n",
            "✅ Recall: 0.4000\n",
            "✅ F1-Score: 0.3854\n",
            "\n",
            "Classification Report:\n",
            "               precision    recall  f1-score   support\n",
            "\n",
            "           0       0.43      0.43      0.43       837\n",
            "           1       0.14      0.07      0.10       337\n",
            "           2       0.42      0.50      0.45       826\n",
            "\n",
            "    accuracy                           0.40      2000\n",
            "   macro avg       0.33      0.34      0.33      2000\n",
            "weighted avg       0.38      0.40      0.39      2000\n",
            "\n"
          ]
        }
      ]
    },
    {
      "cell_type": "code",
      "source": [
        "!pip install streamlit"
      ],
      "metadata": {
        "colab": {
          "base_uri": "https://localhost:8080/"
        },
        "id": "7IUahL9wd0LR",
        "outputId": "1865574c-c946-4cb0-9624-6ccd3e9a5737"
      },
      "execution_count": null,
      "outputs": [
        {
          "output_type": "stream",
          "name": "stdout",
          "text": [
            "Collecting streamlit\n",
            "  Downloading streamlit-1.45.1-py3-none-any.whl.metadata (8.9 kB)\n",
            "Requirement already satisfied: altair<6,>=4.0 in /usr/local/lib/python3.11/dist-packages (from streamlit) (5.5.0)\n",
            "Requirement already satisfied: blinker<2,>=1.5.0 in /usr/local/lib/python3.11/dist-packages (from streamlit) (1.9.0)\n",
            "Requirement already satisfied: cachetools<6,>=4.0 in /usr/local/lib/python3.11/dist-packages (from streamlit) (5.5.2)\n",
            "Requirement already satisfied: click<9,>=7.0 in /usr/local/lib/python3.11/dist-packages (from streamlit) (8.2.0)\n",
            "Requirement already satisfied: numpy<3,>=1.23 in /usr/local/lib/python3.11/dist-packages (from streamlit) (2.0.2)\n",
            "Requirement already satisfied: packaging<25,>=20 in /usr/local/lib/python3.11/dist-packages (from streamlit) (24.2)\n",
            "Requirement already satisfied: pandas<3,>=1.4.0 in /usr/local/lib/python3.11/dist-packages (from streamlit) (2.2.2)\n",
            "Requirement already satisfied: pillow<12,>=7.1.0 in /usr/local/lib/python3.11/dist-packages (from streamlit) (11.2.1)\n",
            "Requirement already satisfied: protobuf<7,>=3.20 in /usr/local/lib/python3.11/dist-packages (from streamlit) (5.29.4)\n",
            "Requirement already satisfied: pyarrow>=7.0 in /usr/local/lib/python3.11/dist-packages (from streamlit) (18.1.0)\n",
            "Requirement already satisfied: requests<3,>=2.27 in /usr/local/lib/python3.11/dist-packages (from streamlit) (2.32.3)\n",
            "Requirement already satisfied: tenacity<10,>=8.1.0 in /usr/local/lib/python3.11/dist-packages (from streamlit) (9.1.2)\n",
            "Requirement already satisfied: toml<2,>=0.10.1 in /usr/local/lib/python3.11/dist-packages (from streamlit) (0.10.2)\n",
            "Requirement already satisfied: typing-extensions<5,>=4.4.0 in /usr/local/lib/python3.11/dist-packages (from streamlit) (4.13.2)\n",
            "Collecting watchdog<7,>=2.1.5 (from streamlit)\n",
            "  Downloading watchdog-6.0.0-py3-none-manylinux2014_x86_64.whl.metadata (44 kB)\n",
            "\u001b[2K     \u001b[90m━━━━━━━━━━━━━━━━━━━━━━━━━━━━━━━━━━━━━━━━\u001b[0m \u001b[32m44.3/44.3 kB\u001b[0m \u001b[31m3.7 MB/s\u001b[0m eta \u001b[36m0:00:00\u001b[0m\n",
            "\u001b[?25hRequirement already satisfied: gitpython!=3.1.19,<4,>=3.0.7 in /usr/local/lib/python3.11/dist-packages (from streamlit) (3.1.44)\n",
            "Collecting pydeck<1,>=0.8.0b4 (from streamlit)\n",
            "  Downloading pydeck-0.9.1-py2.py3-none-any.whl.metadata (4.1 kB)\n",
            "Requirement already satisfied: tornado<7,>=6.0.3 in /usr/local/lib/python3.11/dist-packages (from streamlit) (6.4.2)\n",
            "Requirement already satisfied: jinja2 in /usr/local/lib/python3.11/dist-packages (from altair<6,>=4.0->streamlit) (3.1.6)\n",
            "Requirement already satisfied: jsonschema>=3.0 in /usr/local/lib/python3.11/dist-packages (from altair<6,>=4.0->streamlit) (4.23.0)\n",
            "Requirement already satisfied: narwhals>=1.14.2 in /usr/local/lib/python3.11/dist-packages (from altair<6,>=4.0->streamlit) (1.39.0)\n",
            "Requirement already satisfied: gitdb<5,>=4.0.1 in /usr/local/lib/python3.11/dist-packages (from gitpython!=3.1.19,<4,>=3.0.7->streamlit) (4.0.12)\n",
            "Requirement already satisfied: python-dateutil>=2.8.2 in /usr/local/lib/python3.11/dist-packages (from pandas<3,>=1.4.0->streamlit) (2.9.0.post0)\n",
            "Requirement already satisfied: pytz>=2020.1 in /usr/local/lib/python3.11/dist-packages (from pandas<3,>=1.4.0->streamlit) (2025.2)\n",
            "Requirement already satisfied: tzdata>=2022.7 in /usr/local/lib/python3.11/dist-packages (from pandas<3,>=1.4.0->streamlit) (2025.2)\n",
            "Requirement already satisfied: charset-normalizer<4,>=2 in /usr/local/lib/python3.11/dist-packages (from requests<3,>=2.27->streamlit) (3.4.2)\n",
            "Requirement already satisfied: idna<4,>=2.5 in /usr/local/lib/python3.11/dist-packages (from requests<3,>=2.27->streamlit) (3.10)\n",
            "Requirement already satisfied: urllib3<3,>=1.21.1 in /usr/local/lib/python3.11/dist-packages (from requests<3,>=2.27->streamlit) (2.4.0)\n",
            "Requirement already satisfied: certifi>=2017.4.17 in /usr/local/lib/python3.11/dist-packages (from requests<3,>=2.27->streamlit) (2025.4.26)\n",
            "Requirement already satisfied: smmap<6,>=3.0.1 in /usr/local/lib/python3.11/dist-packages (from gitdb<5,>=4.0.1->gitpython!=3.1.19,<4,>=3.0.7->streamlit) (5.0.2)\n",
            "Requirement already satisfied: MarkupSafe>=2.0 in /usr/local/lib/python3.11/dist-packages (from jinja2->altair<6,>=4.0->streamlit) (3.0.2)\n",
            "Requirement already satisfied: attrs>=22.2.0 in /usr/local/lib/python3.11/dist-packages (from jsonschema>=3.0->altair<6,>=4.0->streamlit) (25.3.0)\n",
            "Requirement already satisfied: jsonschema-specifications>=2023.03.6 in /usr/local/lib/python3.11/dist-packages (from jsonschema>=3.0->altair<6,>=4.0->streamlit) (2025.4.1)\n",
            "Requirement already satisfied: referencing>=0.28.4 in /usr/local/lib/python3.11/dist-packages (from jsonschema>=3.0->altair<6,>=4.0->streamlit) (0.36.2)\n",
            "Requirement already satisfied: rpds-py>=0.7.1 in /usr/local/lib/python3.11/dist-packages (from jsonschema>=3.0->altair<6,>=4.0->streamlit) (0.24.0)\n",
            "Requirement already satisfied: six>=1.5 in /usr/local/lib/python3.11/dist-packages (from python-dateutil>=2.8.2->pandas<3,>=1.4.0->streamlit) (1.17.0)\n",
            "Downloading streamlit-1.45.1-py3-none-any.whl (9.9 MB)\n",
            "\u001b[2K   \u001b[90m━━━━━━━━━━━━━━━━━━━━━━━━━━━━━━━━━━━━━━━━\u001b[0m \u001b[32m9.9/9.9 MB\u001b[0m \u001b[31m91.3 MB/s\u001b[0m eta \u001b[36m0:00:00\u001b[0m\n",
            "\u001b[?25hDownloading pydeck-0.9.1-py2.py3-none-any.whl (6.9 MB)\n",
            "\u001b[2K   \u001b[90m━━━━━━━━━━━━━━━━━━━━━━━━━━━━━━━━━━━━━━━━\u001b[0m \u001b[32m6.9/6.9 MB\u001b[0m \u001b[31m129.6 MB/s\u001b[0m eta \u001b[36m0:00:00\u001b[0m\n",
            "\u001b[?25hDownloading watchdog-6.0.0-py3-none-manylinux2014_x86_64.whl (79 kB)\n",
            "\u001b[2K   \u001b[90m━━━━━━━━━━━━━━━━━━━━━━━━━━━━━━━━━━━━━━━━\u001b[0m \u001b[32m79.1/79.1 kB\u001b[0m \u001b[31m9.5 MB/s\u001b[0m eta \u001b[36m0:00:00\u001b[0m\n",
            "\u001b[?25hInstalling collected packages: watchdog, pydeck, streamlit\n",
            "Successfully installed pydeck-0.9.1 streamlit-1.45.1 watchdog-6.0.0\n"
          ]
        }
      ]
    },
    {
      "cell_type": "code",
      "source": [
        "!pip install pyngrok"
      ],
      "metadata": {
        "colab": {
          "base_uri": "https://localhost:8080/"
        },
        "id": "NllDUNtRecqy",
        "outputId": "b9a3ab35-845c-4bf4-9f1f-22af924d18e8"
      },
      "execution_count": null,
      "outputs": [
        {
          "output_type": "stream",
          "name": "stdout",
          "text": [
            "Collecting pyngrok\n",
            "  Downloading pyngrok-7.2.8-py3-none-any.whl.metadata (10 kB)\n",
            "Requirement already satisfied: PyYAML>=5.1 in /usr/local/lib/python3.11/dist-packages (from pyngrok) (6.0.2)\n",
            "Downloading pyngrok-7.2.8-py3-none-any.whl (25 kB)\n",
            "Installing collected packages: pyngrok\n",
            "Successfully installed pyngrok-7.2.8\n"
          ]
        }
      ]
    },
    {
      "cell_type": "code",
      "source": [
        "%%writefile app.py\n",
        "\n",
        "import streamlit as st\n",
        "import pandas as pd\n",
        "import matplotlib.pyplot as plt\n",
        "import seaborn as sns\n",
        "from wordcloud import WordCloud\n",
        "from collections import Counter\n",
        "import torch\n",
        "from transformers import pipeline\n",
        "\n",
        "# ✅ Load Sentiment Analysis Model\n",
        "sentiment_pipeline = pipeline(\"text-classification\", model=\"distilbert-base-uncased-finetuned-sst-2-english\")\n",
        "\n",
        "# ✅ Load and Process Your Dataset\n",
        "@st.cache_data\n",
        "def load_data():\n",
        "    df = pd.read_csv(\"sentiment_data.csv\")  # Replace with your dataset file\n",
        "    return df\n",
        "\n",
        "df = load_data()\n",
        "\n",
        "# ✅ Streamlit App UI\n",
        "st.title(\"Sentiment Analysis Dashboard\")\n",
        "st.header(\":black[Analysis Based on User Reviews]\")\n",
        "\n",
        "# 📌 **Live Sentiment Prediction**\n",
        "st.subheader(\"🔮 Predict Sentiment for Your Review\")\n",
        "user_review = st.text_area(\"Enter a review to analyze:\")\n",
        "\n",
        "if user_review:\n",
        "    prediction = sentiment_pipeline(user_review)[0][\"label\"]\n",
        "\n",
        "    # ✅ Map model output to \"Positive,\" \"Negative,\" or \"Neutral\"\n",
        "    sentiment_mapping = {\n",
        "        \"POSITIVE\": \"Positive 😊\",\n",
        "        \"NEGATIVE\": \"Negative 😠\",\n",
        "        \"NEUTRAL\": \"Neutral 😐\"\n",
        "    }\n",
        "\n",
        "    # ✅ Show prediction with proper sentiment label\n",
        "    sentiment_result = sentiment_mapping.get(prediction, \"Neutral 😐\")\n",
        "    st.write(f\"**Predicted Sentiment:** {sentiment_result}\")\n",
        "\n",
        "    # ✅ Display Sentiment Color Coding\n",
        "    if prediction == \"POSITIVE\":\n",
        "        st.success(\"This review is positive! 😊\")\n",
        "    elif prediction == \"NEGATIVE\":\n",
        "        st.error(\"This review is negative! 😠\")\n",
        "    else:\n",
        "        st.warning(\"This review seems neutral. 😐\")\n",
        "\n",
        "# 📌 **Overall Sentiment Distribution**\n",
        "st.subheader(\"Overall Sentiment of User Reviews\")\n",
        "df[\"sentiment\"] = df[\"review\"].apply(lambda x: sentiment_pipeline(x)[0][\"label\"])\n",
        "sentiment_counts = df[\"sentiment\"].value_counts()\n",
        "st.bar_chart(sentiment_counts)\n",
        "\n",
        "# 📌 **Sentiment vs. Rating**\n",
        "st.subheader(\"How Does Sentiment Vary by Rating?\")\n",
        "rating_sentiment = df.groupby([\"rating\", \"sentiment\"]).size().unstack()\n",
        "st.line_chart(rating_sentiment)\n",
        "\n",
        "# 📌 **Most Associated Keywords Per Sentiment**\n",
        "st.subheader(\"Most Common Keywords for Each Sentiment\")\n",
        "for sentiment_class in [\"POSITIVE\", \"NEGATIVE\"]:\n",
        "    words = \" \".join(df[df[\"sentiment\"] == sentiment_class][\"review\"])\n",
        "    wordcloud = WordCloud(width=500, height=300, background_color=\"white\").generate(words)\n",
        "    st.image(wordcloud.to_array())\n",
        "\n",
        "st.write(\"✅ **Sentiment analysis results displayed successfully!**\")\n"
      ],
      "metadata": {
        "colab": {
          "base_uri": "https://localhost:8080/"
        },
        "id": "-PIY1CIheesB",
        "outputId": "d19aaa3d-9dd4-4178-d36e-b4f00ab929a2"
      },
      "execution_count": null,
      "outputs": [
        {
          "output_type": "stream",
          "name": "stdout",
          "text": [
            "Writing app.py\n"
          ]
        }
      ]
    },
    {
      "cell_type": "code",
      "source": [
        "!npm install localtunnel\n"
      ],
      "metadata": {
        "colab": {
          "base_uri": "https://localhost:8080/"
        },
        "id": "uykIjuxnf3Kd",
        "outputId": "32a65df5-ba66-4610-a06e-47bd04c2d096"
      },
      "execution_count": null,
      "outputs": [
        {
          "output_type": "stream",
          "name": "stdout",
          "text": [
            "\u001b[1G\u001b[0K⠙\u001b[1G\u001b[0K⠹\u001b[1G\u001b[0K⠸\u001b[1G\u001b[0K⠼\u001b[1G\u001b[0K⠴\u001b[1G\u001b[0K⠦\u001b[1G\u001b[0K\n",
            "added 22 packages in 1s\n",
            "\u001b[1G\u001b[0K⠦\u001b[1G\u001b[0K\n",
            "\u001b[1G\u001b[0K⠦\u001b[1G\u001b[0K3 packages are looking for funding\n",
            "\u001b[1G\u001b[0K⠦\u001b[1G\u001b[0K  run `npm fund` for details\n",
            "\u001b[1G\u001b[0K⠦\u001b[1G\u001b[0K"
          ]
        }
      ]
    },
    {
      "source": [
        "!ngrok authtoken \"2terU4zhNtE7gaJcw6zOfvfv0yM_5aGUqzHPuFd2fJTaWFfbv\""
      ],
      "cell_type": "code",
      "metadata": {
        "colab": {
          "base_uri": "https://localhost:8080/"
        },
        "id": "fb8M5VPXiW7m",
        "outputId": "2f924677-68db-42df-d591-ba48c0cc602f"
      },
      "execution_count": null,
      "outputs": [
        {
          "output_type": "stream",
          "name": "stdout",
          "text": [
            "Authtoken saved to configuration file: /root/.config/ngrok/ngrok.yml\n"
          ]
        }
      ]
    },
    {
      "cell_type": "code",
      "source": [
        "!cat /root/.config/ngrok/ngrok.yml\n"
      ],
      "metadata": {
        "colab": {
          "base_uri": "https://localhost:8080/"
        },
        "id": "ihQfbmfuhOOK",
        "outputId": "173ed467-c812-459f-9927-06e497bfc578"
      },
      "execution_count": null,
      "outputs": [
        {
          "output_type": "stream",
          "name": "stdout",
          "text": [
            "region: us\n",
            "version: '2'\n",
            "authtoken: 2terU4zhNtE7gaJcw6zOfvfv0yM_5aGUqzHPuFd2fJTaWFfbv\n"
          ]
        }
      ]
    },
    {
      "cell_type": "code",
      "source": [
        "!ngrok config add-authtoken 2terU4zhNtE7gaJcw6zOfvfv0yM_5aGUqzHPuFd2fJTaWFfbv\n"
      ],
      "metadata": {
        "colab": {
          "base_uri": "https://localhost:8080/"
        },
        "id": "CFDJz7dokTvr",
        "outputId": "bf9614d1-94b2-437c-a228-8ae74183f2c9"
      },
      "execution_count": null,
      "outputs": [
        {
          "output_type": "stream",
          "name": "stdout",
          "text": [
            "Authtoken saved to configuration file: /root/.config/ngrok/ngrok.yml\n"
          ]
        }
      ]
    },
    {
      "cell_type": "code",
      "source": [
        "from pyngrok import ngrok\n",
        "\n",
        "# Open a tunnel for Streamlit (port 8501)\n",
        "public_url = ngrok.connect(8501, \"http\")\n",
        "print(\"✅ Your Streamlit App is accessible at:\", public_url)\n"
      ],
      "metadata": {
        "colab": {
          "base_uri": "https://localhost:8080/"
        },
        "id": "h8XF9-6fkVg4",
        "outputId": "b4456af2-e10b-4c4a-e663-1c4b78ee9b33"
      },
      "execution_count": null,
      "outputs": [
        {
          "output_type": "stream",
          "name": "stdout",
          "text": [
            "✅ Your Streamlit App is accessible at: NgrokTunnel: \"https://face-34-125-254-251.ngrok-free.app\" -> \"http://localhost:8501\"\n"
          ]
        }
      ]
    },
    {
      "cell_type": "code",
      "source": [
        "!streamlit run app.py\n"
      ],
      "metadata": {
        "colab": {
          "base_uri": "https://localhost:8080/"
        },
        "id": "gpnHmR8Dknf6",
        "outputId": "40c8ba87-1e34-4b90-9a29-bdf285cd0e8d"
      },
      "execution_count": null,
      "outputs": [
        {
          "output_type": "stream",
          "name": "stdout",
          "text": [
            "\n",
            "Collecting usage statistics. To deactivate, set browser.gatherUsageStats to false.\n",
            "\u001b[0m\n",
            "\u001b[0m\n",
            "\u001b[34m\u001b[1m  You can now view your Streamlit app in your browser.\u001b[0m\n",
            "\u001b[0m\n",
            "\u001b[34m  Local URL: \u001b[0m\u001b[1mhttp://localhost:8501\u001b[0m\n",
            "\u001b[34m  Network URL: \u001b[0m\u001b[1mhttp://172.28.0.12:8501\u001b[0m\n",
            "\u001b[34m  External URL: \u001b[0m\u001b[1mhttp://34.125.254.251:8501\u001b[0m\n",
            "\u001b[0m\n",
            "\u001b[34m  Stopping...\u001b[0m\n",
            "\u001b[34m  Stopping...\u001b[0m\n",
            "Exception ignored in atexit callback: <function shutdown at 0x7b6bac939440>\n",
            "Traceback (most recent call last):\n",
            "  File \"/usr/lib/python3.11/logging/__init__.py\", line 2194, in shutdown\n",
            "    h.release()\n",
            "  File \"/usr/lib/python3.11/logging/__init__.py\", line 929, in release\n",
            "    def release(self):\n",
            "\n",
            "  File \"/usr/local/lib/python3.11/dist-packages/streamlit/web/bootstrap.py\", line 44, in signal_handler\n",
            "    server.stop()\n",
            "  File \"/usr/local/lib/python3.11/dist-packages/streamlit/web/server/server.py\", line 469, in stop\n",
            "    self._runtime.stop()\n",
            "  File \"/usr/local/lib/python3.11/dist-packages/streamlit/runtime/runtime.py\", line 324, in stop\n",
            "    async_objs.eventloop.call_soon_threadsafe(stop_on_eventloop)\n",
            "  File \"/usr/lib/python3.11/asyncio/base_events.py\", line 807, in call_soon_threadsafe\n",
            "    self._check_closed()\n",
            "  File \"/usr/lib/python3.11/asyncio/base_events.py\", line 520, in _check_closed\n",
            "    raise RuntimeError('Event loop is closed')\n",
            "RuntimeError: Event loop is closed\n"
          ]
        }
      ]
    },
    {
      "cell_type": "code",
      "source": [
        "import torch\n",
        "\n",
        "# ✅ Save the model weights\n",
        "torch.save(model.state_dict(), \"sentiment_model.pth\")\n",
        "\n",
        "# ✅ Save the tokenizer separately if using Hugging Face\n",
        "tokenizer.save_pretrained(\"sentiment_tokenizer\")\n"
      ],
      "metadata": {
        "colab": {
          "base_uri": "https://localhost:8080/"
        },
        "id": "UIfl3bE8luta",
        "outputId": "c945bbea-1a4b-4e9a-9dc8-202db5314a98"
      },
      "execution_count": null,
      "outputs": [
        {
          "output_type": "execute_result",
          "data": {
            "text/plain": [
              "('sentiment_tokenizer/tokenizer_config.json',\n",
              " 'sentiment_tokenizer/special_tokens_map.json',\n",
              " 'sentiment_tokenizer/vocab.txt',\n",
              " 'sentiment_tokenizer/added_tokens.json',\n",
              " 'sentiment_tokenizer/tokenizer.json')"
            ]
          },
          "metadata": {},
          "execution_count": 54
        }
      ]
    },
    {
      "cell_type": "code",
      "source": [
        "from google.colab import files\n",
        "files.download(\"sentiment_model.pth\")  # ✅ Downloads model weights\n"
      ],
      "metadata": {
        "id": "-XPadbwGl7hd",
        "outputId": "e2c2850e-a524-4e65-e54b-0597319ad600",
        "colab": {
          "base_uri": "https://localhost:8080/",
          "height": 34
        }
      },
      "execution_count": null,
      "outputs": [
        {
          "output_type": "display_data",
          "data": {
            "text/plain": [
              "<IPython.core.display.Javascript object>"
            ],
            "application/javascript": [
              "\n",
              "    async function download(id, filename, size) {\n",
              "      if (!google.colab.kernel.accessAllowed) {\n",
              "        return;\n",
              "      }\n",
              "      const div = document.createElement('div');\n",
              "      const label = document.createElement('label');\n",
              "      label.textContent = `Downloading \"${filename}\": `;\n",
              "      div.appendChild(label);\n",
              "      const progress = document.createElement('progress');\n",
              "      progress.max = size;\n",
              "      div.appendChild(progress);\n",
              "      document.body.appendChild(div);\n",
              "\n",
              "      const buffers = [];\n",
              "      let downloaded = 0;\n",
              "\n",
              "      const channel = await google.colab.kernel.comms.open(id);\n",
              "      // Send a message to notify the kernel that we're ready.\n",
              "      channel.send({})\n",
              "\n",
              "      for await (const message of channel.messages) {\n",
              "        // Send a message to notify the kernel that we're ready.\n",
              "        channel.send({})\n",
              "        if (message.buffers) {\n",
              "          for (const buffer of message.buffers) {\n",
              "            buffers.push(buffer);\n",
              "            downloaded += buffer.byteLength;\n",
              "            progress.value = downloaded;\n",
              "          }\n",
              "        }\n",
              "      }\n",
              "      const blob = new Blob(buffers, {type: 'application/binary'});\n",
              "      const a = document.createElement('a');\n",
              "      a.href = window.URL.createObjectURL(blob);\n",
              "      a.download = filename;\n",
              "      div.appendChild(a);\n",
              "      a.click();\n",
              "      div.remove();\n",
              "    }\n",
              "  "
            ]
          },
          "metadata": {}
        },
        {
          "output_type": "display_data",
          "data": {
            "text/plain": [
              "<IPython.core.display.Javascript object>"
            ],
            "application/javascript": [
              "download(\"download_f6137be3-bf90-4cf5-81b6-1be21c233ae0\", \"sentiment_model.pth\", 265502582)"
            ]
          },
          "metadata": {}
        }
      ]
    }
  ]
}